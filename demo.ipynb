import spacy
import requests
import numpy as np
from spacy import displacy
import matplotlib.pyplot as plt
from scipy.spatial.distance import cosine
